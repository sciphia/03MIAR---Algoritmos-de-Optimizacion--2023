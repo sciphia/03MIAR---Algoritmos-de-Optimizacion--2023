{
  "nbformat": 4,
  "nbformat_minor": 0,
  "metadata": {
    "colab": {
      "provenance": [],
      "authorship_tag": "ABX9TyPgjJBDCx7tynlduIxZ6Nex",
      "include_colab_link": true
    },
    "kernelspec": {
      "name": "python3",
      "display_name": "Python 3"
    },
    "language_info": {
      "name": "python"
    }
  },
  "cells": [
    {
      "cell_type": "markdown",
      "metadata": {
        "id": "view-in-github",
        "colab_type": "text"
      },
      "source": [
        "<a href=\"https://colab.research.google.com/github/sciphia/03MIAR---Algoritmos-de-Optimizacion--2023/blob/main/SEMINARIO/Mauricio_Monroy_AlgoritmosdeOptimizacion_Seminario.ipynb\" target=\"_parent\"><img src=\"https://colab.research.google.com/assets/colab-badge.svg\" alt=\"Open In Colab\"/></a>"
      ]
    },
    {
      "cell_type": "markdown",
      "metadata": {
        "id": "hVbXYX-RfPWh"
      },
      "source": [
        "# Algoritmos de optimización - Seminario<br>\n",
        "Nombre y Apellidos: legal: Mauricio Monroy Calderon  <br>\n",
        "Url: <br>\n",
        "Problema:\n",
        "> 1. Sesiones de doblaje <br>\n",
        "\n",
        "Descripción del problema:(copiar enunciado)\n",
        "\n",
        "....\n",
        "\n",
        "(*) La respuesta es obligatoria\n",
        "\n",
        "\n",
        "\n",
        "\n",
        "\n",
        "                                        "
      ]
    },
    {
      "cell_type": "markdown",
      "source": [
        "Organizar sesiones de doblaje\n",
        "Se precisa coordinar el doblaje de una película. Los actores del doblaje deben coincidir en las tomas en las que sus personajes aparecen juntos en las diferentes tomas. Los actores de doblaje cobran todos la misma cantidad por cada día que deben desplazarse hasta el estudio de grabación independientemente del número de tomas que se graben. No es posible grabar más de 6 tomas por día. El objetivo es planificar las sesiones por día de manera que el gasto por los servicios de los actores de doblaje sea el menor posible. Los datos son:"
      ],
      "metadata": {
        "id": "dPU3eWAz8XJk"
      }
    },
    {
      "cell_type": "markdown",
      "metadata": {
        "id": "3_-exlrTgLd-"
      },
      "source": [
        "(*)¿Cuantas posibilidades hay sin tener en cuenta las restricciones?<br>\n",
        "\n",
        "\n",
        "\n",
        "¿Cuantas posibilidades hay teniendo en cuenta todas las restricciones.\n",
        "\n",
        "\n"
      ]
    },
    {
      "cell_type": "markdown",
      "metadata": {
        "id": "WfCUqJyKhPcw"
      },
      "source": [
        "Respuesta"
      ]
    },
    {
      "cell_type": "markdown",
      "source": [
        "Para 10 actores y un total de 30 tomas.\n",
        "\n",
        "\n",
        "![image.png](data:image/png;base64,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)"
      ],
      "metadata": {
        "id": "OqIUzkRl8aMG"
      }
    },
    {
      "cell_type": "markdown",
      "metadata": {
        "id": "dzynfVJahHoY"
      },
      "source": [
        "Modelo para el espacio de soluciones<br>\n",
        "(*) ¿Cual es la estructura de datos que mejor se adapta al problema? Argumentalo.(Es posible que hayas elegido una al principio y veas la necesidad de cambiar, arguentalo)\n"
      ]
    },
    {
      "cell_type": "markdown",
      "metadata": {
        "id": "xFIJrOwKi2Ti"
      },
      "source": [
        "Respuesta"
      ]
    },
    {
      "cell_type": "markdown",
      "source": [
        "Para empeza a solucionar el problema debemos identificar la estructra de datos a ser utilizada.\n",
        "\n",
        "Se propone utilizar como solucion, una lista de listas donde cada lista integrante representa un dia de grabacion.\n",
        "\n",
        "solucion = [[1,2,3,4,5,6],...,[24,25,26,27,28,29,30]]\n",
        "\n",
        "Cada dia no puede tener mas de 6 tomas y cada numero dentro del dia representa el número de toma a ser grabada.\n",
        "\n",
        "Sabemos que cada toma es diferente y necesita ser doblada por diferentes actores, por lo que, identificamos el costo total del dia como la cantidad de actores unicos que participan en las 6 o menos tomas de ese dia.\n",
        "\n",
        "La solucion final será la suma del costo total diario, que representará el costo total de grabacion.\n",
        "\n",
        "Gracias a este estructura podemos decir que el total de dias serían 5 pero como sabemos, el costo depende de que tomas se graben cada dia."
      ],
      "metadata": {
        "id": "hA2Fa02C9JfB"
      }
    },
    {
      "cell_type": "markdown",
      "metadata": {
        "id": "7Z9U2W7bi-XS"
      },
      "source": [
        "Según el modelo para el espacio de soluciones<br>\n",
        "(*)¿Cual es la función objetivo?\n",
        "\n",
        "(*)¿Es un problema de maximización o minimización?"
      ]
    },
    {
      "cell_type": "markdown",
      "metadata": {
        "id": "hBalWLM7j1_d"
      },
      "source": [
        "Respuesta"
      ]
    },
    {
      "cell_type": "markdown",
      "source": [
        "La función objetivo es el coste total de todos los dias para realizar las 30 tomas de doblaje, siendo este, un problema de minimización"
      ],
      "metadata": {
        "id": "o1btArSe9MaI"
      }
    },
    {
      "cell_type": "markdown",
      "metadata": {
        "id": "rlnTYgY1j6I2"
      },
      "source": [
        "Diseña un algoritmo para resolver el problema por fuerza bruta"
      ]
    },
    {
      "cell_type": "markdown",
      "metadata": {
        "id": "70rDgxYXkC8r"
      },
      "source": [
        "Respuesta"
      ]
    },
    {
      "cell_type": "markdown",
      "source": [],
      "metadata": {
        "id": "H3zE9baB9Ymg"
      }
    },
    {
      "cell_type": "markdown",
      "metadata": {
        "id": "tgrnsC2nkFa8"
      },
      "source": [
        "Calcula la complejidad del algoritmo por fuerza bruta"
      ]
    },
    {
      "cell_type": "markdown",
      "source": [],
      "metadata": {
        "id": "BYVkw9WV9l7W"
      }
    },
    {
      "cell_type": "markdown",
      "metadata": {
        "id": "9eUd3xwckP68"
      },
      "source": [
        "Respuesta"
      ]
    },
    {
      "cell_type": "markdown",
      "metadata": {
        "id": "txbrmLmskReM"
      },
      "source": [
        "(*)Diseña un algoritmo que mejore la complejidad del algortimo por fuerza bruta. Argumenta porque crees que mejora el algoritmo por fuerza bruta"
      ]
    },
    {
      "cell_type": "markdown",
      "metadata": {
        "id": "hLrVwt5QkZPD"
      },
      "source": [
        "Respuesta"
      ]
    },
    {
      "cell_type": "markdown",
      "source": [
        "A pesar de la posibilidad de realizar un algortimo por fuerza bruta, realizarlo resultaria en un problema demasiado grande pdebido a la cantidad de soluciones que existenEs por eso que se optó por un metodo heurístico para realizar dihco problema"
      ],
      "metadata": {
        "id": "jXNYEy1F-7R3"
      }
    },
    {
      "cell_type": "markdown",
      "metadata": {
        "id": "eGDB4K6uk1iN"
      },
      "source": [
        "(*)Calcula la complejidad del algoritmo "
      ]
    },
    {
      "cell_type": "markdown",
      "metadata": {
        "id": "NhpTh_BPk1ms"
      },
      "source": [
        "Respuesta"
      ]
    },
    {
      "cell_type": "markdown",
      "metadata": {
        "id": "kAkDPUyRtYyH"
      },
      "source": [
        "Describe brevemente las lineas de como crees que es posible avanzar en el estudio del problema. Ten en cuenta incluso posibles variaciones del problema y/o variaciones al alza del tamaño"
      ]
    },
    {
      "cell_type": "markdown",
      "metadata": {
        "id": "IE0uZmo-tZu-"
      },
      "source": [
        "Respuesta"
      ]
    },
    {
      "cell_type": "markdown",
      "source": [
        "Otros metodos de busqueda mas avanazados podrian mejorar el problema , pero es im'portante notar que lo mejor siempre sera uno método no determinista debido a la cantidad de soluciones posibles que existen e igual que mientras mayor numero de tomas existan mayor sera la cantidad de soluciones."
      ],
      "metadata": {
        "id": "VqcwGiyu_t5H"
      }
    },
    {
      "cell_type": "markdown",
      "source": [
        "#Problema\n",
        "##Organizar sesiones de doblaje\n",
        "\n",
        "Se precisa coordinar el doblaje de una película. Los actores del doblaje deben coincidir en las tomas en las que sus personajes aparecen juntos en las diferentes tomas. Los actores de doblaje cobran todos la misma cantidad por cada día que deben desplazarse hasta el estudio de grabación independientemente del número de tomas que se graben. No es posible grabar más de 6 tomas por día. El objetivo es planificar las sesiones por día de manera que el gasto por los servicios de los actores de doblaje sea el menor posible. Los datos son:"
      ],
      "metadata": {
        "id": "CKG9RFZtpJfg"
      }
    },
    {
      "cell_type": "markdown",
      "source": [
        "| |Actor| | | | | | | | | | | |\n",
        "|:----|:----|:----|:----|:----|:----|:----|:----|:----|:----|:----|:----|:----|\n",
        "|Toma|1|2|3|4|5|6|7|8|9|10| |Total|\n",
        "|1|1|1|1|1|1|0|0|0|0|0| |5|\n",
        "|2|0|0|1|1|1|0|0|0|0|0| |3|\n",
        "|3|0|1|0|0|1|0|1|0|0|0| |3|\n",
        "|4|1|1|0|0|0|0|1|1|0|0| |4|\n",
        "|5|0|1|0|1|0|0|0|1|0|0| |3|\n",
        "|6|1|1|0|1|1|0|0|0|0|0| |4|\n",
        "|7|1|1|0|1|1|0|0|0|0|0| |4|\n",
        "|8|1|1|0|0|0|1|0|0|0|0| |3|\n",
        "|9|1|1|0|1|0|0|0|0|0|0| |3|\n",
        "|10|1|1|0|0|0|1|0|0|1|0| |4|\n",
        "|11|1|1|1|0|1|0|0|1|0|0| |5|\n",
        "|12|1|1|1|1|0|1|0|0|0|0| |5|\n",
        "|13|1|0|0|1|1|0|0|0|0|0| |3|\n",
        "|14|1|0|1|0|0|1|0|0|0|0| |3|\n",
        "|15|1|1|0|0|0|0|1|0|0|0| |3|\n",
        "|16|0|0|0|1|0|0|0|0|0|1| |2|\n",
        "|17|1|0|1|0|0|0|0|0|0|0| |2|\n",
        "|18|0|0|1|0|0|1|0|0|0|0| |2|\n",
        "|19|1|0|1|0|0|0|0|0|0|0| |2|\n",
        "|20|1|0|1|1|1|0|0|0|0|0| |4|\n",
        "|21|0|0|0|0|0|1|0|1|0|0| |2|\n",
        "|22|1|1|1|1|0|0|0|0|0|0| |4|\n",
        "|23|1|0|1|0|0|0|0|0|0|0| |2|\n",
        "|24|0|0|1|0|0|1|0|0|0|0| |2|\n",
        "|25|1|1|0|1|0|0|0|0|0|1| |4|\n",
        "|26|1|0|1|0|1|0|0|0|1|0| |4|\n",
        "|27|0|0|0|1|1|0|0|0|0|0| |2|\n",
        "|28|1|0|0|1|0|0|0|0|0|0| |2|\n",
        "|29|1|0|0|0|1|1|0|0|0|0| |3|\n",
        "|30|1|0|0|1|0|0|0|0|0|0| |2|\n",
        "| | | | | | | | | | | | | |\n",
        "|TOTAL|22|14|13|15|11|8|3|4|2|2| | |\n"
      ],
      "metadata": {
        "id": "U8BjwFMlpKlK"
      }
    },
    {
      "cell_type": "markdown",
      "source": [
        "### Solución\n",
        "\n",
        "Para empeza a solucionar el problema debemos identificar la estructra de datos a ser utilizada.\n",
        "\n",
        "Se propone utilizar como solucion, una lista de listas donde cada lista integrante representa un dia de grabacion.\n",
        "\n",
        "solucion = [[1,2,3,4,5,6],...,[24,25,26,27,28,29,30]]\n",
        "\n",
        "Cada dia no puede tener mas de 6 tomas y cada numero dentro del dia representa el número de toma a ser grabada.\n",
        "\n",
        "Sabemos que cada toma es diferente y necesita ser doblada por diferentes actores, por lo que, identificamos el costo total del dia como la cantidad de actores unicos que participan en las 6 o menos tomas de ese dia.\n",
        "\n",
        "La solucion final será la suma del costo total diario, que representará el costo total de grabacion.\n",
        "\n",
        "Gracias a este estructura podemos decir que el total de dias serían 5 pero como sabemos, el costo depende de que tomas se graben cada dia."
      ],
      "metadata": {
        "id": "TxL-mZND7MLk"
      }
    },
    {
      "cell_type": "code",
      "source": [
        "# Actores por toma\n",
        "\n",
        "dic = [\n",
        "    [1,1,1,1,1,0,0,0,0,0], #1\n",
        "    [0,0,1,1,1,0,0,0,0,0], #2\n",
        "    [0,1,0,0,1,0,1,0,0,0], #3\n",
        "    [1,1,0,0,0,0,1,1,0,0], #4\n",
        "    [0,1,0,1,0,0,0,1,0,0], #5\n",
        "    [1,1,0,1,1,0,0,0,0,0], #6\n",
        "    [1,1,0,1,1,0,0,0,0,0], #7\n",
        "    [1,1,0,0,0,1,0,0,0,0], #8\n",
        "    [1,1,0,1,0,0,0,0,0,0], #9\n",
        "    [1,1,0,0,0,1,0,0,1,0], #10\n",
        "    [1,1,1,0,1,0,0,1,0,0], #11\n",
        "    [1,1,1,1,0,1,0,0,0,0], #12\n",
        "    [1,0,0,1,1,0,0,0,0,0], #13\n",
        "    [1,0,1,0,0,1,0,0,0,0], #14\n",
        "    [1,1,0,0,0,0,1,0,0,0], #15\n",
        "    [0,0,0,1,0,0,0,0,0,1], #16\n",
        "    [1,0,1,0,0,0,0,0,0,0], #17\n",
        "    [0,0,1,0,0,1,0,0,0,0], #18\n",
        "    [1,0,1,0,0,0,0,0,0,0], #19\n",
        "    [1,0,1,1,1,0,0,0,0,0], #20\n",
        "    [0,0,0,0,0,1,0,1,0,0], #21\n",
        "    [1,1,1,1,0,0,0,0,0,0], #22\n",
        "    [1,0,1,0,0,0,0,0,0,0], #23\n",
        "    [0,0,1,0,0,1,0,0,0,0], #24\n",
        "    [1,1,0,1,0,0,0,0,0,1], #25\n",
        "    [1,0,1,0,1,0,0,0,1,0], #26\n",
        "    [0,0,0,1,1,0,0,0,0,0], #27\n",
        "    [1,0,0,1,0,0,0,0,0,0], #28\n",
        "    [1,0,0,0,1,1,0,0,0,0], #29\n",
        "    [1,0,0,1,0,0,0,0,0,0], #30\n",
        "     ]\n",
        "\n"
      ],
      "metadata": {
        "id": "ihgI1tLLIqjT"
      },
      "execution_count": 173,
      "outputs": []
    },
    {
      "cell_type": "code",
      "source": [
        "# Tool Functions\n",
        "\n",
        "def sumDay(sol,dic):\n",
        "  k = [0]*len(sol)\n",
        "  count = 0\n",
        "  for i in sol:\n",
        "    if i == 0:\n",
        "      continue\n",
        "    for j in range(len(k)):\n",
        "        k[j] = k[j] + dic[i-1][j]\n",
        "  for i in range(len(k)):\n",
        "    if k[i] != 0:\n",
        "      count += 1\n",
        "  return count"
      ],
      "metadata": {
        "id": "d-DLT4D_QkiO"
      },
      "execution_count": 174,
      "outputs": []
    },
    {
      "cell_type": "code",
      "source": [
        "# Main\n",
        "\n",
        "solution = [[1,2,3,4,5,6],[7,8,9,10,11,12],[13,14,15,16,17,18],[19,20,21,22,23,24],[25,26,27,28,29,30]]\n",
        "\n",
        "costo = 0\n",
        "for i in solution:\n",
        "  costo += sumDay(i,dic)\n",
        "costo"
      ],
      "metadata": {
        "colab": {
          "base_uri": "https://localhost:8080/"
        },
        "id": "S1J9XqlKQs9S",
        "outputId": "345c6282-de98-427c-a472-c442058cfa75"
      },
      "execution_count": 175,
      "outputs": [
        {
          "output_type": "execute_result",
          "data": {
            "text/plain": [
              "29"
            ]
          },
          "metadata": {},
          "execution_count": 175
        }
      ]
    },
    {
      "cell_type": "code",
      "source": [
        "import random\n",
        "x = 0\n",
        "for x in range(1000000):\n",
        "  nums = list(range(1, 31))\n",
        "  random.shuffle(nums)\n",
        "  s =[]\n",
        "  for i in range(5):\n",
        "    s.append(nums[0 + 6*i:6 + 6*i])\n",
        "  cost = 0\n",
        "  for i in s:\n",
        "    cost += sumDay(i,dic)\n",
        "  if cost < costo:\n",
        "    costo = cost\n",
        "    print(costo)\n",
        "    print(s)"
      ],
      "metadata": {
        "colab": {
          "base_uri": "https://localhost:8080/"
        },
        "id": "tyc3Z1UvWzgE",
        "outputId": "681bd9aa-bc12-4167-8f5a-d5560c7361b9"
      },
      "execution_count": 179,
      "outputs": [
        {
          "output_type": "stream",
          "name": "stdout",
          "text": [
            "25\n",
            "[[16, 24, 23, 14, 19, 28], [10, 3, 6, 29, 26, 30], [2, 7, 11, 4, 20, 17], [25, 13, 27, 1, 15, 9], [22, 8, 12, 21, 18, 5]]\n",
            "24\n",
            "[[13, 11, 20, 22, 2, 5], [17, 19, 23, 26, 1, 9], [29, 21, 10, 16, 3, 27], [14, 24, 15, 12, 18, 8], [7, 4, 30, 25, 6, 28]]\n",
            "23\n",
            "[[8, 10, 14, 17, 21, 24], [7, 15, 13, 25, 6, 5], [19, 30, 27, 23, 26, 2], [16, 11, 1, 3, 4, 28], [29, 18, 20, 12, 22, 9]]\n"
          ]
        }
      ]
    },
    {
      "cell_type": "markdown",
      "source": [
        "---\n",
        "Despues de hacer una busqueda aleatoria, pudimos reducir el costo de la grabacion por 6 unidades. Recordemos que es probable que esta solucion sea un mínimo local. Para proseguir con el análisis, propongo una optimizacion diaria. Sabemos que optimizar pequeñas soluciones no necesariamente significa que nos daria una optimizacion global, pero probaremos.\n",
        "\n",
        "Seguimos manteniendo el numero minimo de dias necesario para hacer todas las tomas.\n",
        "\n"
      ],
      "metadata": {
        "id": "oqxCPAz9enTJ"
      }
    },
    {
      "cell_type": "code",
      "source": [
        "solution = [[1,2,3,4,5,6],[7,8,9,10,11,12],[13,14,15,16,17,18],[19,20,21,22,23,24],[25,26,27,28,29,30]]\n",
        "sol = []\n",
        "\n",
        "for x in range(5):\n",
        "  costo_day = sumDay(solution[x],dic)\n",
        "  for y in range(10000):\n",
        "    num = list(range(1,31))\n",
        "\n",
        "    if len(sol)>0:\n",
        "      for n in range(len(sol)):\n",
        "        for i in sol[n]:\n",
        "          num.remove(i)\n",
        "  \n",
        "    random.shuffle(num)\n",
        "    day = num[0:6]\n",
        "    cost_day = sumDay(day,dic)\n",
        "    if cost_day < costo_day:\n",
        "      costo_day = cost_day\n",
        "      print(costo_day)\n",
        "      print(day)\n",
        "  sol.append(day)\n",
        "print(sol)\n",
        "cost = 0\n",
        "for i in s:\n",
        "  cost += sumDay(i,dic)\n",
        "print(cost)\n",
        "\n"
      ],
      "metadata": {
        "colab": {
          "base_uri": "https://localhost:8080/"
        },
        "id": "bKnYRvFMfvxe",
        "outputId": "cf1fe9d3-3db3-4313-aa64-82bf758cae74"
      },
      "execution_count": 177,
      "outputs": [
        {
          "output_type": "stream",
          "name": "stdout",
          "text": [
            "4\n",
            "[30, 4, 22, 15, 17, 5]\n",
            "5\n",
            "[9, 2, 19, 3, 15, 28]\n",
            "4\n",
            "[13, 4, 25, 6, 15, 16]\n",
            "5\n",
            "[7, 11, 16, 2, 9, 1]\n",
            "4\n",
            "[9, 25, 5, 16, 27, 7]\n",
            "5\n",
            "[16, 9, 12, 5, 25, 14]\n",
            "4\n",
            "[27, 7, 9, 16, 25, 5]\n",
            "[[10, 17, 22, 24, 23, 30], [13, 28, 15, 4, 3, 26], [2, 8, 19, 11, 29, 6], [27, 5, 20, 21, 9, 1], [14, 16, 12, 18, 7, 25]]\n",
            "28\n"
          ]
        }
      ]
    },
    {
      "cell_type": "markdown",
      "source": [
        "Como era lo mas probable de esperar, no por optimizar los dias podriamos obtener una solucion mejor."
      ],
      "metadata": {
        "id": "I7boHkfkmMQ8"
      }
    },
    {
      "cell_type": "markdown",
      "source": [
        "---\n",
        "\n",
        "Por ultimo, vale la pena investigar si añadiendo mas dias es posible mejorar nuestra mejor solucion. No espero que existan mejores soluciones mas allá de 5 dias extras por lo que solo se realizó el análisis del mínimos de dias para completar la grabacion (5 dias) y 5 dias extras, es decir 10 dias."
      ],
      "metadata": {
        "id": "0ETkRtdaolTk"
      }
    },
    {
      "cell_type": "code",
      "source": [
        "costo = 29 #base\n",
        "for d in range(5):\n",
        "  x = 0\n",
        "  for x in range(1000000):\n",
        "    solution = list(range(1,31))\n",
        "    solution = solution + [0]*(6*(d+1))\n",
        "    random.shuffle(solution)\n",
        "    s =[]\n",
        "    for i in range(len(solution)//6):\n",
        "      s.append(solution[0 + 6*i:6 + 6*i])\n",
        "    cost = 0\n",
        "    for i in s:\n",
        "      cost += sumDay(i,dic)\n",
        "    if cost < costo:\n",
        "      costo = cost\n",
        "      print(costo)\n",
        "      print(s)\n",
        "\n"
      ],
      "metadata": {
        "colab": {
          "base_uri": "https://localhost:8080/"
        },
        "id": "54e2sbANng-y",
        "outputId": "7f018812-7d26-4907-ff01-bdaddab65b25"
      },
      "execution_count": 197,
      "outputs": [
        {
          "output_type": "stream",
          "name": "stdout",
          "text": [
            "28\n",
            "[[13, 11, 6, 0, 22, 1], [9, 30, 17, 4, 25, 26], [19, 0, 16, 23, 12, 18], [3, 0, 0, 27, 7, 5], [10, 21, 15, 8, 0, 14], [28, 20, 29, 0, 2, 24]]\n",
            "27\n",
            "[[5, 4, 23, 15, 22, 30], [11, 9, 0, 6, 7, 27], [0, 14, 29, 13, 19, 18], [28, 16, 8, 2, 12, 10], [0, 21, 24, 0, 0, 0], [3, 1, 20, 17, 25, 26]]\n"
          ]
        }
      ]
    },
    {
      "cell_type": "markdown",
      "source": [
        "No dio mejores resultado pero si mejor que el propuesto anteriormente. Como extra, se realizó una modificacion al anterior con un solo dia extra pero tratando que al momento de hacer la solucion aleatoria existan menos personas en el ultimo dia."
      ],
      "metadata": {
        "id": "PJFhdFhS4b7k"
      }
    },
    {
      "cell_type": "code",
      "source": [
        "costo = 29 #base\n",
        "x = 0\n",
        "for x in range(1000000):\n",
        "  solution = list(range(1,31))\n",
        "  solution = solution + [0]\n",
        "  random.shuffle(solution)\n",
        "  solution = solution + [0,0,0,0,0]\n",
        "  s =[]\n",
        "  for i in range(len(solution)//6):\n",
        "    s.append(solution[0 + 6*i:6 + 6*i])\n",
        "  cost = 0\n",
        "  for i in s:\n",
        "    cost += sumDay(i,dic)\n",
        "  if cost < costo:\n",
        "    costo = cost\n",
        "    print(costo)\n",
        "    print(s)"
      ],
      "metadata": {
        "colab": {
          "base_uri": "https://localhost:8080/"
        },
        "id": "ZH7L2N-V5Fzd",
        "outputId": "c386a472-9ead-499c-a349-b8ea034403fa"
      },
      "execution_count": 198,
      "outputs": [
        {
          "output_type": "stream",
          "name": "stdout",
          "text": [
            "28\n",
            "[[9, 25, 7, 13, 6, 28], [15, 18, 23, 8, 2, 30], [19, 10, 24, 17, 3, 26], [27, 22, 1, 11, 16, 20], [21, 4, 0, 29, 14, 12], [5, 0, 0, 0, 0, 0]]\n",
            "27\n",
            "[[11, 26, 20, 1, 23, 15], [19, 14, 16, 21, 17, 18], [2, 30, 27, 24, 10, 22], [12, 9, 5, 25, 8, 28], [3, 13, 4, 0, 6, 7], [29, 0, 0, 0, 0, 0]]\n",
            "26\n",
            "[[23, 6, 9, 12, 7, 19], [29, 30, 2, 13, 11, 14], [5, 20, 25, 3, 17, 26], [1, 22, 27, 16, 28, 15], [4, 24, 8, 21, 10, 18], [0, 0, 0, 0, 0, 0]]\n",
            "25\n",
            "[[8, 9, 10, 29, 30, 21], [5, 22, 4, 27, 26, 7], [1, 15, 16, 3, 2, 25], [13, 17, 11, 6, 12, 20], [18, 24, 28, 19, 23, 14], [0, 0, 0, 0, 0, 0]]\n",
            "24\n",
            "[[20, 24, 30, 29, 14, 27], [23, 18, 4, 21, 15, 8], [19, 22, 17, 10, 16, 12], [9, 5, 2, 1, 25, 28], [6, 11, 13, 7, 26, 3], [0, 0, 0, 0, 0, 0]]\n"
          ]
        }
      ]
    },
    {
      "cell_type": "markdown",
      "source": [
        "El algoritmo no logro encontrar una mejor solucion utilizando un dia extra, es más, al momento de optimizar, el mismo algortimo eligió las solucion sin el dia extra."
      ],
      "metadata": {
        "id": "lRM1_hiB5thV"
      }
    },
    {
      "cell_type": "code",
      "source": [],
      "metadata": {
        "id": "nijQQonT9p_Z"
      },
      "execution_count": null,
      "outputs": []
    }
  ]
}