{
  "nbformat": 4,
  "nbformat_minor": 0,
  "metadata": {
    "colab": {
      "provenance": [],
      "authorship_tag": "ABX9TyPPFhID2PVVfJvaI0qeC5nP",
      "include_colab_link": true
    },
    "kernelspec": {
      "name": "python3",
      "display_name": "Python 3"
    },
    "language_info": {
      "name": "python"
    }
  },
  "cells": [
    {
      "cell_type": "markdown",
      "metadata": {
        "id": "view-in-github",
        "colab_type": "text"
      },
      "source": [
        "<a href=\"https://colab.research.google.com/github/sciphia/03MIAR---Algoritmos-de-Optimizacion--2023/blob/main/SEMINARIO/Sofia_Monroy_AlgoritmosdeOptimizacion_Seminario.ipynb\" target=\"_parent\"><img src=\"https://colab.research.google.com/assets/colab-badge.svg\" alt=\"Open In Colab\"/></a>"
      ]
    },
    {
      "cell_type": "markdown",
      "metadata": {
        "id": "hVbXYX-RfPWh"
      },
      "source": [
        "# Algoritmos de optimización - Seminario<br>\n",
        "Nombre y Apellidos: legal: Mauricio Monroy Calderon  <br>\n",
        "Url: <br>\n",
        "Problema:\n",
        "> 1. Sesiones de doblaje <br>\n",
        "\n",
        "Descripción del problema:(copiar enunciado)\n",
        "\n",
        "....\n",
        "\n",
        "(*) La respuesta es obligatoria\n",
        "\n",
        "\n",
        "\n",
        "\n",
        "\n",
        "                                        "
      ]
    },
    {
      "cell_type": "markdown",
      "source": [
        "#Problema\n",
        "##Organizar sesiones de doblaje\n",
        "\n",
        "Se precisa coordinar el doblaje de una película. Los actores del doblaje deben coincidir en las tomas en las que sus personajes aparecen juntos en las diferentes tomas. Los actores de doblaje cobran todos la misma cantidad por cada día que deben desplazarse hasta el estudio de grabación independientemente del número de tomas que se graben. No es posible grabar más de 6 tomas por día. El objetivo es planificar las sesiones por día de manera que el gasto por los servicios de los actores de doblaje sea el menor posible. Los datos son:"
      ],
      "metadata": {
        "id": "CKG9RFZtpJfg"
      }
    },
    {
      "cell_type": "markdown",
      "source": [
        "| |Actor| | | | | | | | | | | |\n",
        "|:----|:----|:----|:----|:----|:----|:----|:----|:----|:----|:----|:----|:----|\n",
        "|Toma|1|2|3|4|5|6|7|8|9|10| |Total|\n",
        "|1|1|1|1|1|1|0|0|0|0|0| |5|\n",
        "|2|0|0|1|1|1|0|0|0|0|0| |3|\n",
        "|3|0|1|0|0|1|0|1|0|0|0| |3|\n",
        "|4|1|1|0|0|0|0|1|1|0|0| |4|\n",
        "|5|0|1|0|1|0|0|0|1|0|0| |3|\n",
        "|6|1|1|0|1|1|0|0|0|0|0| |4|\n",
        "|7|1|1|0|1|1|0|0|0|0|0| |4|\n",
        "|8|1|1|0|0|0|1|0|0|0|0| |3|\n",
        "|9|1|1|0|1|0|0|0|0|0|0| |3|\n",
        "|10|1|1|0|0|0|1|0|0|1|0| |4|\n",
        "|11|1|1|1|0|1|0|0|1|0|0| |5|\n",
        "|12|1|1|1|1|0|1|0|0|0|0| |5|\n",
        "|13|1|0|0|1|1|0|0|0|0|0| |3|\n",
        "|14|1|0|1|0|0|1|0|0|0|0| |3|\n",
        "|15|1|1|0|0|0|0|1|0|0|0| |3|\n",
        "|16|0|0|0|1|0|0|0|0|0|1| |2|\n",
        "|17|1|0|1|0|0|0|0|0|0|0| |2|\n",
        "|18|0|0|1|0|0|1|0|0|0|0| |2|\n",
        "|19|1|0|1|0|0|0|0|0|0|0| |2|\n",
        "|20|1|0|1|1|1|0|0|0|0|0| |4|\n",
        "|21|0|0|0|0|0|1|0|1|0|0| |2|\n",
        "|22|1|1|1|1|0|0|0|0|0|0| |4|\n",
        "|23|1|0|1|0|0|0|0|0|0|0| |2|\n",
        "|24|0|0|1|0|0|1|0|0|0|0| |2|\n",
        "|25|1|1|0|1|0|0|0|0|0|1| |4|\n",
        "|26|1|0|1|0|1|0|0|0|1|0| |4|\n",
        "|27|0|0|0|1|1|0|0|0|0|0| |2|\n",
        "|28|1|0|0|1|0|0|0|0|0|0| |2|\n",
        "|29|1|0|0|0|1|1|0|0|0|0| |3|\n",
        "|30|1|0|0|1|0|0|0|0|0|0| |2|\n",
        "| | | | | | | | | | | | | |\n",
        "|TOTAL|22|14|13|15|11|8|3|4|2|2| | |\n"
      ],
      "metadata": {
        "id": "U8BjwFMlpKlK"
      }
    },
    {
      "cell_type": "markdown",
      "source": [
        "### Solución\n",
        "\n",
        "Para empeza a solucionar el problema debemos identificar la estructra de datos a ser utilizada.\n",
        "\n",
        "Se propone utilizar como solucion, una lista de listas donde cada lista integrante representa un dia de grabacion.\n",
        "\n",
        "solucion = [[1,2,3,4,5,6],...,[24,25,26,27,28,29,30]]\n",
        "\n",
        "Cada dia no puede tener mas de 6 tomas y cada numero dentro del dia representa el número de toma a ser grabada.\n",
        "\n",
        "Sabemos que cada toma es diferente y necesita ser doblada por diferentes actores, por lo que, identificamos el costo total del dia como la cantidad de actores unicos que participan en las 6 o menos tomas de ese dia.\n",
        "\n",
        "La solucion final será la suma del costo total diario, que representará el costo total de grabacion.\n",
        "\n",
        "Gracias a este estructura podemos decir que el total de dias serían 5 pero como sabemos, el costo depende de que tomas se graben cada dia."
      ],
      "metadata": {
        "id": "TxL-mZND7MLk"
      }
    },
    {
      "cell_type": "code",
      "source": [
        "# Actores por toma\n",
        "\n",
        "dic = [\n",
        "    [1,1,1,1,1,0,0,0,0,0], #1\n",
        "    [0,0,1,1,1,0,0,0,0,0], #2\n",
        "    [0,1,0,0,1,0,1,0,0,0], #3\n",
        "    [1,1,0,0,0,0,1,1,0,0], #4\n",
        "    [0,1,0,1,0,0,0,1,0,0], #5\n",
        "    [1,1,0,1,1,0,0,0,0,0], #6\n",
        "    [1,1,0,1,1,0,0,0,0,0], #7\n",
        "    [1,1,0,0,0,1,0,0,0,0], #8\n",
        "    [1,1,0,1,0,0,0,0,0,0], #9\n",
        "    [1,1,0,0,0,1,0,0,1,0], #10\n",
        "    [1,1,1,0,1,0,0,1,0,0], #11\n",
        "    [1,1,1,1,0,1,0,0,0,0], #12\n",
        "    [1,0,0,1,1,0,0,0,0,0], #13\n",
        "    [1,0,1,0,0,1,0,0,0,0], #14\n",
        "    [1,1,0,0,0,0,1,0,0,0], #15\n",
        "    [0,0,0,1,0,0,0,0,0,1], #16\n",
        "    [1,0,1,0,0,0,0,0,0,0], #17\n",
        "    [0,0,1,0,0,1,0,0,0,0], #18\n",
        "    [1,0,1,0,0,0,0,0,0,0], #19\n",
        "    [1,0,1,1,1,0,0,0,0,0], #20\n",
        "    [0,0,0,0,0,1,0,1,0,0], #21\n",
        "    [1,1,1,1,0,0,0,0,0,0], #22\n",
        "    [1,0,1,0,0,0,0,0,0,0], #23\n",
        "    [0,0,1,0,0,1,0,0,0,0], #24\n",
        "    [1,1,0,1,0,0,0,0,0,1], #25\n",
        "    [1,0,1,0,1,0,0,0,1,0], #26\n",
        "    [0,0,0,1,1,0,0,0,0,0], #27\n",
        "    [1,0,0,1,0,0,0,0,0,0], #28\n",
        "    [1,0,0,0,1,1,0,0,0,0], #29\n",
        "    [1,0,0,1,0,0,0,0,0,0], #30\n",
        "     ]\n",
        "\n"
      ],
      "metadata": {
        "id": "ihgI1tLLIqjT"
      },
      "execution_count": 173,
      "outputs": []
    },
    {
      "cell_type": "code",
      "source": [
        "# Tool Functions\n",
        "\n",
        "def sumDay(sol,dic):\n",
        "  k = [0]*len(sol)\n",
        "  count = 0\n",
        "  for i in sol:\n",
        "    if i == 0:\n",
        "      continue\n",
        "    for j in range(len(k)):\n",
        "        k[j] = k[j] + dic[i-1][j]\n",
        "  for i in range(len(k)):\n",
        "    if k[i] != 0:\n",
        "      count += 1\n",
        "  return count"
      ],
      "metadata": {
        "id": "d-DLT4D_QkiO"
      },
      "execution_count": 174,
      "outputs": []
    },
    {
      "cell_type": "code",
      "source": [
        "# Main\n",
        "\n",
        "solution = [[1,2,3,4,5,6],[7,8,9,10,11,12],[13,14,15,16,17,18],[19,20,21,22,23,24],[25,26,27,28,29,30]]\n",
        "\n",
        "costo = 0\n",
        "for i in solution:\n",
        "  costo += sumDay(i,dic)\n",
        "costo"
      ],
      "metadata": {
        "colab": {
          "base_uri": "https://localhost:8080/"
        },
        "id": "S1J9XqlKQs9S",
        "outputId": "345c6282-de98-427c-a472-c442058cfa75"
      },
      "execution_count": 175,
      "outputs": [
        {
          "output_type": "execute_result",
          "data": {
            "text/plain": [
              "29"
            ]
          },
          "metadata": {},
          "execution_count": 175
        }
      ]
    },
    {
      "cell_type": "code",
      "source": [
        "import random\n",
        "x = 0\n",
        "for x in range(1000000):\n",
        "  nums = list(range(1, 31))\n",
        "  random.shuffle(nums)\n",
        "  s =[]\n",
        "  for i in range(5):\n",
        "    s.append(nums[0 + 6*i:6 + 6*i])\n",
        "  cost = 0\n",
        "  for i in s:\n",
        "    cost += sumDay(i,dic)\n",
        "  if cost < costo:\n",
        "    costo = cost\n",
        "    print(costo)\n",
        "    print(s)"
      ],
      "metadata": {
        "colab": {
          "base_uri": "https://localhost:8080/"
        },
        "id": "tyc3Z1UvWzgE",
        "outputId": "681bd9aa-bc12-4167-8f5a-d5560c7361b9"
      },
      "execution_count": 179,
      "outputs": [
        {
          "output_type": "stream",
          "name": "stdout",
          "text": [
            "25\n",
            "[[16, 24, 23, 14, 19, 28], [10, 3, 6, 29, 26, 30], [2, 7, 11, 4, 20, 17], [25, 13, 27, 1, 15, 9], [22, 8, 12, 21, 18, 5]]\n",
            "24\n",
            "[[13, 11, 20, 22, 2, 5], [17, 19, 23, 26, 1, 9], [29, 21, 10, 16, 3, 27], [14, 24, 15, 12, 18, 8], [7, 4, 30, 25, 6, 28]]\n",
            "23\n",
            "[[8, 10, 14, 17, 21, 24], [7, 15, 13, 25, 6, 5], [19, 30, 27, 23, 26, 2], [16, 11, 1, 3, 4, 28], [29, 18, 20, 12, 22, 9]]\n"
          ]
        }
      ]
    },
    {
      "cell_type": "markdown",
      "source": [
        "---\n",
        "Despues de hacer una busqueda aleatoria, pudimos reducir el costo de la grabacion por 6 unidades. Recordemos que es probable que esta solucion sea un mínimo local. Para proseguir con el análisis, propongo una optimizacion diaria. Sabemos que optimizar pequeñas soluciones no necesariamente significa que nos daria una optimizacion global, pero probaremos.\n",
        "\n",
        "Seguimos manteniendo el numero minimo de dias necesario para hacer todas las tomas.\n",
        "\n"
      ],
      "metadata": {
        "id": "oqxCPAz9enTJ"
      }
    },
    {
      "cell_type": "code",
      "source": [
        "solution = [[1,2,3,4,5,6],[7,8,9,10,11,12],[13,14,15,16,17,18],[19,20,21,22,23,24],[25,26,27,28,29,30]]\n",
        "sol = []\n",
        "\n",
        "for x in range(5):\n",
        "  costo_day = sumDay(solution[x],dic)\n",
        "  for y in range(10000):\n",
        "    num = list(range(1,31))\n",
        "\n",
        "    if len(sol)>0:\n",
        "      for n in range(len(sol)):\n",
        "        for i in sol[n]:\n",
        "          num.remove(i)\n",
        "  \n",
        "    random.shuffle(num)\n",
        "    day = num[0:6]\n",
        "    cost_day = sumDay(day,dic)\n",
        "    if cost_day < costo_day:\n",
        "      costo_day = cost_day\n",
        "      print(costo_day)\n",
        "      print(day)\n",
        "  sol.append(day)\n",
        "print(sol)\n",
        "cost = 0\n",
        "for i in s:\n",
        "  cost += sumDay(i,dic)\n",
        "print(cost)\n",
        "\n"
      ],
      "metadata": {
        "colab": {
          "base_uri": "https://localhost:8080/"
        },
        "id": "bKnYRvFMfvxe",
        "outputId": "cf1fe9d3-3db3-4313-aa64-82bf758cae74"
      },
      "execution_count": 177,
      "outputs": [
        {
          "output_type": "stream",
          "name": "stdout",
          "text": [
            "4\n",
            "[30, 4, 22, 15, 17, 5]\n",
            "5\n",
            "[9, 2, 19, 3, 15, 28]\n",
            "4\n",
            "[13, 4, 25, 6, 15, 16]\n",
            "5\n",
            "[7, 11, 16, 2, 9, 1]\n",
            "4\n",
            "[9, 25, 5, 16, 27, 7]\n",
            "5\n",
            "[16, 9, 12, 5, 25, 14]\n",
            "4\n",
            "[27, 7, 9, 16, 25, 5]\n",
            "[[10, 17, 22, 24, 23, 30], [13, 28, 15, 4, 3, 26], [2, 8, 19, 11, 29, 6], [27, 5, 20, 21, 9, 1], [14, 16, 12, 18, 7, 25]]\n",
            "28\n"
          ]
        }
      ]
    },
    {
      "cell_type": "markdown",
      "source": [
        "Como era lo mas probable de esperar, no por optimizar los dias podriamos obtener una solucion mejor."
      ],
      "metadata": {
        "id": "I7boHkfkmMQ8"
      }
    },
    {
      "cell_type": "markdown",
      "source": [
        "---\n",
        "\n",
        "Por ultimo, vale la pena investigar si añadiendo mas dias es posible mejorar nuestra mejor solucion. No espero que existan mejores soluciones mas allá de 5 dias extras por lo que solo se realizó el análisis del mínimos de dias para completar la grabacion (5 dias) y 5 dias extras, es decir 10 dias."
      ],
      "metadata": {
        "id": "0ETkRtdaolTk"
      }
    },
    {
      "cell_type": "code",
      "source": [
        "costo = 29 #base\n",
        "for d in range(5):\n",
        "  x = 0\n",
        "  for x in range(1000000):\n",
        "    solution = list(range(1,31))\n",
        "    solution = solution + [0]*(6*(d+1))\n",
        "    random.shuffle(solution)\n",
        "    s =[]\n",
        "    for i in range(len(solution)//6):\n",
        "      s.append(solution[0 + 6*i:6 + 6*i])\n",
        "    cost = 0\n",
        "    for i in s:\n",
        "      cost += sumDay(i,dic)\n",
        "    if cost < costo:\n",
        "      costo = cost\n",
        "      print(costo)\n",
        "      print(s)\n",
        "\n"
      ],
      "metadata": {
        "colab": {
          "base_uri": "https://localhost:8080/"
        },
        "id": "54e2sbANng-y",
        "outputId": "7f018812-7d26-4907-ff01-bdaddab65b25"
      },
      "execution_count": 197,
      "outputs": [
        {
          "output_type": "stream",
          "name": "stdout",
          "text": [
            "28\n",
            "[[13, 11, 6, 0, 22, 1], [9, 30, 17, 4, 25, 26], [19, 0, 16, 23, 12, 18], [3, 0, 0, 27, 7, 5], [10, 21, 15, 8, 0, 14], [28, 20, 29, 0, 2, 24]]\n",
            "27\n",
            "[[5, 4, 23, 15, 22, 30], [11, 9, 0, 6, 7, 27], [0, 14, 29, 13, 19, 18], [28, 16, 8, 2, 12, 10], [0, 21, 24, 0, 0, 0], [3, 1, 20, 17, 25, 26]]\n"
          ]
        }
      ]
    },
    {
      "cell_type": "markdown",
      "source": [
        "No dio mejores resultado pero si mejor que el propuesto anteriormente. Como extra, se realizó una modificacion al anterior con un solo dia extra pero tratando que al momento de hacer la solucion aleatoria existan menos personas en el ultimo dia."
      ],
      "metadata": {
        "id": "PJFhdFhS4b7k"
      }
    },
    {
      "cell_type": "code",
      "source": [
        "costo = 29 #base\n",
        "x = 0\n",
        "for x in range(1000000):\n",
        "  solution = list(range(1,31))\n",
        "  solution = solution + [0]\n",
        "  random.shuffle(solution)\n",
        "  solution = solution + [0,0,0,0,0]\n",
        "  s =[]\n",
        "  for i in range(len(solution)//6):\n",
        "    s.append(solution[0 + 6*i:6 + 6*i])\n",
        "  cost = 0\n",
        "  for i in s:\n",
        "    cost += sumDay(i,dic)\n",
        "  if cost < costo:\n",
        "    costo = cost\n",
        "    print(costo)\n",
        "    print(s)"
      ],
      "metadata": {
        "colab": {
          "base_uri": "https://localhost:8080/"
        },
        "id": "ZH7L2N-V5Fzd",
        "outputId": "c386a472-9ead-499c-a349-b8ea034403fa"
      },
      "execution_count": 198,
      "outputs": [
        {
          "output_type": "stream",
          "name": "stdout",
          "text": [
            "28\n",
            "[[9, 25, 7, 13, 6, 28], [15, 18, 23, 8, 2, 30], [19, 10, 24, 17, 3, 26], [27, 22, 1, 11, 16, 20], [21, 4, 0, 29, 14, 12], [5, 0, 0, 0, 0, 0]]\n",
            "27\n",
            "[[11, 26, 20, 1, 23, 15], [19, 14, 16, 21, 17, 18], [2, 30, 27, 24, 10, 22], [12, 9, 5, 25, 8, 28], [3, 13, 4, 0, 6, 7], [29, 0, 0, 0, 0, 0]]\n",
            "26\n",
            "[[23, 6, 9, 12, 7, 19], [29, 30, 2, 13, 11, 14], [5, 20, 25, 3, 17, 26], [1, 22, 27, 16, 28, 15], [4, 24, 8, 21, 10, 18], [0, 0, 0, 0, 0, 0]]\n",
            "25\n",
            "[[8, 9, 10, 29, 30, 21], [5, 22, 4, 27, 26, 7], [1, 15, 16, 3, 2, 25], [13, 17, 11, 6, 12, 20], [18, 24, 28, 19, 23, 14], [0, 0, 0, 0, 0, 0]]\n",
            "24\n",
            "[[20, 24, 30, 29, 14, 27], [23, 18, 4, 21, 15, 8], [19, 22, 17, 10, 16, 12], [9, 5, 2, 1, 25, 28], [6, 11, 13, 7, 26, 3], [0, 0, 0, 0, 0, 0]]\n"
          ]
        }
      ]
    },
    {
      "cell_type": "markdown",
      "source": [
        "El algoritmo no logro encontrar una mejor solucion utilizando un dia extra, es más, al momento de optimizar, el mismo algortimo eligio las solucion sin el dia extra."
      ],
      "metadata": {
        "id": "lRM1_hiB5thV"
      }
    }
  ]
}